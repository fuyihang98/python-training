{
 "cells": [
  {
   "cell_type": "markdown",
   "metadata": {},
   "source": [
    "<a name=\"top\"></a>\n",
    "<div style=\"width:1000 px\">\n",
    "\n",
    "<div style=\"float:right; width:98 px; height:98px;\">\n",
    "<img src=\"https://raw.githubusercontent.com/Unidata/MetPy/master/src/metpy/plots/_static/unidata_150x150.png\" alt=\"Unidata Logo\" style=\"height: 98px;\">\n",
    "</div>\n",
    "\n",
    "<h1>Intermediate NumPy</h1>\n",
    "<h3>Unidata Python Workshop</h3>\n",
    "\n",
    "<div style=\"clear:both\"></div>\n",
    "</div>\n",
    "\n",
    "<hr style=\"height:2px;\">\n",
    "\n",
    "<div style=\"float:right; width:250 px\"><img src=\"http://www.contribute.geeksforgeeks.org/wp-content/uploads/numpy-logo1.jpg\" alt=\"NumPy Logo\" style=\"height: 250px;\"></div>\n",
    "\n",
    "### Questions\n",
    "1. How do we work with the multiple dimensions in a NumPy Array?\n",
    "1. How can we extract irregular subsets of data?\n",
    "1. How can we sort an array?\n",
    "\n",
    "### Objectives\n",
    "1. <a href=\"#indexing\">Using axes to slice arrays</a>\n",
    "1. <a href=\"#boolean\">Index arrays using true and false</a>\n",
    "1. <a href=\"#integers\">Index arrays using arrays of indices</a>"
   ]
  },
  {
   "cell_type": "markdown",
   "metadata": {
    "slideshow": {
     "slide_type": "slide"
    }
   },
   "source": [
    "<a name=\"indexing\"></a>\n",
    "## 1. Using axes to slice arrays\n",
    "\n",
    "The solution to the last exercise in the Numpy Basics notebook introduces an important concept when working with NumPy: the axis. This indicates the particular dimension along which a function should operate (provided the function does something taking multiple values and converts to a single value). \n",
    "\n",
    "Let's look at a concrete example with `sum`:"
   ]
  },
  {
   "cell_type": "code",
   "execution_count": 4,
   "metadata": {},
   "outputs": [],
   "source": [
    "# Convention for import to get shortened namespace\n",
    "import numpy as np"
   ]
  },
  {
   "cell_type": "code",
   "execution_count": 13,
   "metadata": {
    "slideshow": {
     "slide_type": "subslide"
    }
   },
   "outputs": [
    {
     "data": {
      "text/plain": [
       "array([[ 0,  1,  2,  3],\n",
       "       [ 4,  5,  6,  7],\n",
       "       [ 8,  9, 10, 11]])"
      ]
     },
     "execution_count": 13,
     "metadata": {},
     "output_type": "execute_result"
    }
   ],
   "source": [
    "# Create an array for testing\n",
    "a = np.arange(12).reshape(3, 4)\n",
    "a"
   ]
  },
  {
   "cell_type": "code",
   "execution_count": 14,
   "metadata": {},
   "outputs": [
    {
     "data": {
      "text/plain": [
       "66"
      ]
     },
     "execution_count": 14,
     "metadata": {},
     "output_type": "execute_result"
    }
   ],
   "source": [
    "# This calculates the total of all values in the array\n",
    "np.sum(a)"
   ]
  },
  {
   "cell_type": "code",
   "execution_count": 15,
   "metadata": {},
   "outputs": [
    {
     "data": {
      "text/plain": [
       "(3, 4)"
      ]
     },
     "execution_count": 15,
     "metadata": {},
     "output_type": "execute_result"
    }
   ],
   "source": [
    "# Keep this in mind:\n",
    "a.shape"
   ]
  },
  {
   "cell_type": "code",
   "execution_count": 16,
   "metadata": {},
   "outputs": [
    {
     "data": {
      "text/plain": [
       "array([12, 15, 18, 21])"
      ]
     },
     "execution_count": 16,
     "metadata": {},
     "output_type": "execute_result"
    }
   ],
   "source": [
    "# Instead, take the sum across the rows:\n",
    "np.sum(a, axis=0)"
   ]
  },
  {
   "cell_type": "code",
   "execution_count": 17,
   "metadata": {},
   "outputs": [
    {
     "data": {
      "text/plain": [
       "array([ 6, 22, 38])"
      ]
     },
     "execution_count": 17,
     "metadata": {},
     "output_type": "execute_result"
    }
   ],
   "source": [
    "# Or do the same and take the some across columns:\n",
    "np.sum(a, axis=1)"
   ]
  },
  {
   "cell_type": "markdown",
   "metadata": {},
   "source": [
    "<div class=\"alert alert-success\">\n",
    "    <b>EXERCISE</b>:\n",
    "     <ul>\n",
    "      <li>Finish the code below to calculate advection. The trick is to figure out\n",
    "          how to do the summation.</li>\n",
    "    </ul>\n",
    "</div>"
   ]
  },
  {
   "cell_type": "code",
   "execution_count": 20,
   "metadata": {
    "scrolled": true
   },
   "outputs": [
    {
     "name": "stdout",
     "output_type": "stream",
     "text": [
      "(100, 50, 2)\n"
     ]
    }
   ],
   "source": [
    "# Synthetic data\n",
    "temp = np.random.randn(100, 50)\n",
    "u = np.random.randn(100, 50)\n",
    "v = np.random.randn(100, 50)\n",
    "\n",
    "# Calculate the gradient components\n",
    "gradx, grady = np.gradient(temp)\n",
    "\n",
    "# Turn into an array of vectors:\n",
    "# axis 0 is x position\n",
    "# axis 1 is y position\n",
    "# axis 2 is the vector components\n",
    "grad_vec = np.dstack([gradx, grady])\n",
    "print(grad_vec.shape)\n",
    "\n",
    "# Turn wind components into vector\n",
    "wind_vec = np.dstack([u, v])\n",
    "\n",
    "# Calculate advection, the dot product of wind and the negative of gradient\n",
    "# DON'T USE NUMPY.DOT (doesn't work). Multiply and add.\n"
   ]
  },
  {
   "cell_type": "markdown",
   "metadata": {},
   "source": [
    "<div class=\"alert alert-info\">\n",
    "    <b>SOLUTION</b>\n",
    "</div>"
   ]
  },
  {
   "cell_type": "code",
   "execution_count": 21,
   "metadata": {},
   "outputs": [
    {
     "name": "stdout",
     "output_type": "stream",
     "text": [
      "(100, 50)\n"
     ]
    }
   ],
   "source": [
    "# %load solutions/advection.py\n",
    "advec = (wind_vec * -grad_vec).sum(axis=-1)\n",
    "print(advec.shape)"
   ]
  },
  {
   "cell_type": "markdown",
   "metadata": {},
   "source": [
    "<a href=\"#top\">Top</a>\n",
    "<hr style=\"height:2px;\">"
   ]
  },
  {
   "cell_type": "markdown",
   "metadata": {},
   "source": [
    "<a name=\"boolean\"></a>\n",
    "## 2. Indexing Arrays with Boolean Values\n",
    "Numpy can easily create arrays of boolean values and use those to select certain values to extract from an array"
   ]
  },
  {
   "cell_type": "code",
   "execution_count": 14,
   "metadata": {},
   "outputs": [],
   "source": [
    "# Create some synthetic data representing temperature and wind speed data\n",
    "np.random.seed(19990503)  # Make sure we all have the same data\n",
    "temp = (20 * np.cos(np.linspace(0, 2 * np.pi, 100)) +\n",
    "        50 + 2 * np.random.randn(100))\n",
    "spd = (np.abs(10 * np.sin(np.linspace(0, 2 * np.pi, 100)) +\n",
    "              10 + 5 * np.random.randn(100)))"
   ]
  },
  {
   "cell_type": "code",
   "execution_count": 15,
   "metadata": {},
   "outputs": [
    {
     "data": {
      "image/png": "[encoded data removed]",
      "text/plain": [
       "<Figure size 432x288 with 1 Axes>"
      ]
     },
     "metadata": {
      "needs_background": "light"
     },
     "output_type": "display_data"
    }
   ],
   "source": [
    "%matplotlib inline\n",
    "import matplotlib.pyplot as plt\n",
    "plt.plot(temp, 'tab:red')\n",
    "plt.plot(spd, 'tab:blue');"
   ]
  },
  {
   "cell_type": "markdown",
   "metadata": {},
   "source": [
    "By doing a comparision between a NumPy array and a value, we get an\n",
    "array of values representing the results of the comparison between\n",
    "each element and the value"
   ]
  },
  {
   "cell_type": "code",
   "execution_count": 16,
   "metadata": {},
   "outputs": [
    {
     "data": {
      "text/plain": [
       "array([ True,  True,  True,  True,  True,  True,  True,  True,  True,\n",
       "        True,  True,  True,  True,  True,  True,  True,  True,  True,\n",
       "        True,  True,  True,  True,  True,  True,  True,  True,  True,\n",
       "        True, False, False,  True, False, False, False, False, False,\n",
       "       False, False, False, False, False, False, False, False, False,\n",
       "       False, False, False, False, False, False, False, False, False,\n",
       "       False, False, False, False, False, False, False, False, False,\n",
       "       False, False,  True, False, False, False, False,  True,  True,\n",
       "        True,  True,  True,  True,  True,  True,  True,  True,  True,\n",
       "        True,  True,  True,  True,  True,  True,  True,  True,  True,\n",
       "        True,  True,  True,  True,  True,  True,  True,  True,  True,\n",
       "        True])"
      ]
     },
     "execution_count": 16,
     "metadata": {},
     "output_type": "execute_result"
    }
   ],
   "source": [
    "temp > 45"
   ]
  },
  {
   "cell_type": "markdown",
   "metadata": {},
   "source": [
    "We can take the resulting array and use this to index into the\n",
    "NumPy array and retrieve the values where the result was true"
   ]
  },
  {
   "cell_type": "code",
   "execution_count": 17,
   "metadata": {},
   "outputs": [
    {
     "name": "stdout",
     "output_type": "stream",
     "text": [
      "[69.89825854 71.52313905 69.90028363 66.73828667 66.77980233 72.91468564\n",
      " 69.34603239 69.09533591 68.27350814 64.33916721 67.49497791 67.05282372\n",
      " 63.51829518 63.54034678 65.46576463 62.99683836 59.27662304 61.29361272\n",
      " 60.51641586 57.46048995 55.19793004 53.07572989 54.47998158 53.09552107\n",
      " 54.59037269 47.84272747 49.1435589  45.87151534 45.11976794 45.009292\n",
      " 46.36021141 46.87557425 47.25668992 50.09599544 53.77789358 50.24073197\n",
      " 54.07629059 51.95065202 55.84827794 57.56967086 57.19572063 61.67658285\n",
      " 56.51474577 59.72166924 62.99403256 63.57569453 64.05984232 60.88258643\n",
      " 65.37759899 63.94115754 65.53070256 67.15175649 66.26468701 67.03811793\n",
      " 69.17773618 69.83571708 70.99586742 66.34971928 67.49905207 69.83593609]\n"
     ]
    }
   ],
   "source": [
    "print(temp[temp > 45])"
   ]
  },
  {
   "cell_type": "markdown",
   "metadata": {},
   "source": [
    "So long as the size of the boolean array matches the data, the boolean array can come from anywhere"
   ]
  },
  {
   "cell_type": "code",
   "execution_count": 18,
   "metadata": {},
   "outputs": [
    {
     "name": "stdout",
     "output_type": "stream",
     "text": [
      "[66.73828667 66.77980233 69.34603239 69.09533591 68.27350814 64.33916721\n",
      " 67.49497791 67.05282372 63.51829518 63.54034678 65.46576463 62.99683836\n",
      " 59.27662304 61.29361272 60.51641586 57.46048995 55.19793004 53.07572989\n",
      " 54.47998158 53.09552107 54.59037269 47.84272747 49.1435589  45.87151534\n",
      " 43.95971516 42.72814762 42.45316175 39.2797517  40.23351938 36.77179678\n",
      " 34.43329229 31.42277612 38.97505745 34.10549575 35.70826448 29.01276068\n",
      " 30.31180935 29.31602671 32.84580454 30.76695309 29.11344716 30.16652571\n",
      " 29.91513049 39.51784389 69.17773618 69.83571708 69.83593609]\n"
     ]
    }
   ],
   "source": [
    "print(temp[spd > 10])"
   ]
  },
  {
   "cell_type": "code",
   "execution_count": 19,
   "metadata": {},
   "outputs": [
    {
     "data": {
      "text/plain": [
       "[<matplotlib.lines.Line2D at 0x1d3b03ffca0>]"
      ]
     },
     "execution_count": 19,
     "metadata": {},
     "output_type": "execute_result"
    },
    {
     "data": {
      "image/png": "[encoded data removed]",
      "text/plain": [
       "<Figure size 432x288 with 1 Axes>"
      ]
     },
     "metadata": {
      "needs_background": "light"
     },
     "output_type": "display_data"
    }
   ],
   "source": [
    "# Make a copy so we don't modify the original data\n",
    "temp2 = temp.copy()\n",
    "\n",
    "# Replace all places where spd is <10 with NaN (not a number) so matplotlib skips it\n",
    "temp2[spd < 10] = np.nan\n",
    "plt.plot(temp2, 'tab:red')"
   ]
  },
  {
   "cell_type": "markdown",
   "metadata": {},
   "source": [
    "Can also combine multiple boolean arrays using the syntax for bitwise operations. **MUST HAVE PARENTHESES** due to operator precedence."
   ]
  },
  {
   "cell_type": "code",
   "execution_count": 20,
   "metadata": {},
   "outputs": [
    {
     "name": "stdout",
     "output_type": "stream",
     "text": [
      "[43.95971516 42.72814762 42.45316175 39.2797517  40.23351938 36.77179678\n",
      " 34.43329229 31.42277612 38.97505745 34.10549575 35.70826448 29.01276068\n",
      " 30.31180935 29.31602671 32.84580454 30.76695309 29.11344716 30.16652571\n",
      " 29.91513049 39.51784389]\n"
     ]
    }
   ],
   "source": [
    "print(temp[(temp < 45) & (spd > 10)])"
   ]
  },
  {
   "cell_type": "markdown",
   "metadata": {},
   "source": [
    "<div class=\"alert alert-success\">\n",
    "    <b>EXERCISE</b>:\n",
    "     <ul>\n",
    "      <li>Heat index is only defined for temperatures >= 80F and relative humidity values >= 40%. Using the data generated below, use boolean indexing to extract the data where heat index has a valid value.</li>\n",
    "    </ul>\n",
    "</div>"
   ]
  },
  {
   "cell_type": "code",
   "execution_count": 21,
   "metadata": {},
   "outputs": [],
   "source": [
    "# Here's the \"data\"\n",
    "np.random.seed(19990503)  # Make sure we all have the same data\n",
    "temp = (20 * np.cos(np.linspace(0, 2 * np.pi, 100)) +\n",
    "        80 + 2 * np.random.randn(100))\n",
    "rh = (np.abs(20 * np.cos(np.linspace(0, 4 * np.pi, 100)) +\n",
    "              50 + 5 * np.random.randn(100)))\n",
    "\n",
    "\n",
    "# Create a mask for the two conditions described above\n",
    "# good_heat_index = \n",
    "\n",
    "\n",
    "\n",
    "# Use this mask to grab the temperature and relative humidity values that together\n",
    "# will give good heat index values\n",
    "# temp[] ?\n",
    "\n",
    "\n",
    "# BONUS POINTS: Plot only the data where heat index is defined by\n",
    "# inverting the mask (using `~mask`) and setting invalid values to np.nan"
   ]
  },
  {
   "cell_type": "markdown",
   "metadata": {},
   "source": [
    "<div class=\"alert alert-info\">\n",
    "    <b>SOLUTION</b>\n",
    "</div>"
   ]
  },
  {
   "cell_type": "code",
   "execution_count": 22,
   "metadata": {},
   "outputs": [],
   "source": [
    "# %load solutions/heat_index.py"
   ]
  },
  {
   "cell_type": "markdown",
   "metadata": {},
   "source": [
    "<a href=\"#top\">Top</a>\n",
    "<hr style=\"height:2px;\">"
   ]
  },
  {
   "cell_type": "markdown",
   "metadata": {},
   "source": [
    "<a name=\"integers\"></a>\n",
    "## 3. Indexing using arrays of indices\n",
    "\n",
    "You can also use a list or array of indices to extract particular values--this is a natural extension of the regular indexing. For instance, just as we can select the first element:"
   ]
  },
  {
   "cell_type": "code",
   "execution_count": 23,
   "metadata": {},
   "outputs": [
    {
     "name": "stdout",
     "output_type": "stream",
     "text": [
      "99.89825854468695\n"
     ]
    }
   ],
   "source": [
    "print(temp[0])"
   ]
  },
  {
   "cell_type": "markdown",
   "metadata": {},
   "source": [
    "We can also extract the first, fifth, and tenth elements:"
   ]
  },
  {
   "cell_type": "code",
   "execution_count": 24,
   "metadata": {},
   "outputs": [
    {
     "name": "stdout",
     "output_type": "stream",
     "text": [
      "[99.89825854 96.77980233 94.33916721]\n"
     ]
    }
   ],
   "source": [
    "print(temp[[0, 4, 9]])"
   ]
  },
  {
   "cell_type": "markdown",
   "metadata": {},
   "source": [
    "One of the ways this comes into play is trying to sort numpy arrays using `argsort`. This function returns the indices of the array that give the items in sorted order. So for our temp \"data\":"
   ]
  },
  {
   "cell_type": "code",
   "execution_count": 25,
   "metadata": {},
   "outputs": [
    {
     "name": "stdout",
     "output_type": "stream",
     "text": [
      "[52 57 42 48 54 44 56 51 49 43 50 46 58 55 53 40 37 61 47 45 59 39 36 60\n",
      " 41 34 66 63 35 38 32 62 64 33 31 67 29 28 68 69 65 30 27 70 71 72 25 26\n",
      " 73 75 77 21 23 74 76 22 24 20 78 82 80 19 79 16 83 18 87 17 81 84 15 12\n",
      " 13 85 89 86  9 88 14 90 92 97  3  4 93 11 91 10 98  8  7 94  6 95 99  0\n",
      "  2 96  1  5]\n"
     ]
    }
   ],
   "source": [
    "inds = np.argsort(temp)\n",
    "print(inds)"
   ]
  },
  {
   "cell_type": "markdown",
   "metadata": {},
   "source": [
    "We can use this array of indices to pass into temp to get it in sorted order:"
   ]
  },
  {
   "cell_type": "code",
   "execution_count": 26,
   "metadata": {},
   "outputs": [
    {
     "name": "stdout",
     "output_type": "stream",
     "text": [
      "[ 58.71828204  58.85269149  59.01276068  59.11344716  59.25186164\n",
      "  59.31602671  59.42796381  59.91513049  60.16652571  60.31180935\n",
      "  60.48608715  60.76695309  60.93380275  60.95814392  61.07199963\n",
      "  61.1341411   61.42277612  62.27369636  62.44927684  62.84580454\n",
      "  63.37573713  64.10549575  64.43329229  64.95696914  65.70826448\n",
      "  66.77179678  67.06954335  67.39853293  67.7453367   68.97505745\n",
      "  69.2797517   69.34620461  69.51784389  70.23351938  72.45316175\n",
      "  72.69583703  72.72814762  73.95971516  74.03576453  74.45775806\n",
      "  75.009292    75.11976794  75.87151534  76.36021141  76.87557425\n",
      "  77.25668992  77.84272747  79.1435589   80.09599544  80.24073197\n",
      "  81.95065202  83.07572989  83.09552107  83.77789358  84.07629059\n",
      "  84.47998158  84.59037269  85.19793004  85.84827794  86.51474577\n",
      "  87.19572063  87.46048995  87.56967086  89.27662304  89.72166924\n",
      "  90.51641586  90.88258643  91.29361272  91.67658285  92.99403256\n",
      "  92.99683836  93.51829518  93.54034678  93.57569453  93.94115754\n",
      "  94.05984232  94.33916721  95.37759899  95.46576463  95.53070256\n",
      "  96.26468701  96.34971928  96.73828667  96.77980233  97.03811793\n",
      "  97.05282372  97.15175649  97.49497791  97.49905207  98.27350814\n",
      "  99.09533591  99.17773618  99.34603239  99.83571708  99.83593609\n",
      "  99.89825854  99.90028363 100.99586742 101.52313905 102.91468564]\n"
     ]
    }
   ],
   "source": [
    "print(temp[inds])"
   ]
  },
  {
   "cell_type": "markdown",
   "metadata": {},
   "source": [
    "Or we can slice `inds` to only give the 10 highest temperatures:"
   ]
  },
  {
   "cell_type": "code",
   "execution_count": 27,
   "metadata": {},
   "outputs": [
    {
     "name": "stdout",
     "output_type": "stream",
     "text": [
      "[ 99.09533591  99.17773618  99.34603239  99.83571708  99.83593609\n",
      "  99.89825854  99.90028363 100.99586742 101.52313905 102.91468564]\n"
     ]
    }
   ],
   "source": [
    "ten_highest = inds[-10:]\n",
    "print(temp[ten_highest])"
   ]
  },
  {
   "cell_type": "markdown",
   "metadata": {},
   "source": [
    "There are other numpy arg functions that return indices for operating:"
   ]
  },
  {
   "cell_type": "code",
   "execution_count": 28,
   "metadata": {},
   "outputs": [
    {
     "data": {
      "text/plain": [
       "np.argmax\n",
       "np.argmin\n",
       "np.argpartition\n",
       "np.argsort\n",
       "np.argwhere\n",
       "np.nanargmax\n",
       "np.nanargmin"
      ]
     },
     "metadata": {},
     "output_type": "display_data"
    }
   ],
   "source": [
    "np.*arg*?"
   ]
  },
  {
   "cell_type": "markdown",
   "metadata": {},
   "source": [
    "<a href=\"#top\">Top</a>\n",
    "<hr style=\"height:2px;\">"
   ]
  },
  {
   "cell_type": "code",
   "execution_count": null,
   "metadata": {},
   "outputs": [],
   "source": []
  },
  {
   "cell_type": "code",
   "execution_count": null,
   "metadata": {},
   "outputs": [],
   "source": []
  },
  {
   "cell_type": "code",
   "execution_count": null,
   "metadata": {},
   "outputs": [],
   "source": []
  },
  {
   "cell_type": "code",
   "execution_count": null,
   "metadata": {},
   "outputs": [],
   "source": []
  },
  {
   "cell_type": "code",
   "execution_count": null,
   "metadata": {},
   "outputs": [],
   "source": []
  }
 ],
 "metadata": {
  "kernelspec": {
   "display_name": "Python 3 (ipykernel)",
   "language": "python",
   "name": "python3"
  },
  "language_info": {
   "codemirror_mode": {
    "name": "ipython",
    "version": 3
   },
   "file_extension": ".py",
   "mimetype": "text/x-python",
   "name": "python",
   "nbconvert_exporter": "python",
   "pygments_lexer": "ipython3",
   "version": "3.8.12"
  }
 },
 "nbformat": 4,
 "nbformat_minor": 4
}
