{
 "cells": [
  {
   "cell_type": "markdown",
   "metadata": {},
   "source": [
    "<div style=\"width:1000 px\">\n",
    "\n",
    "<div style=\"float:right; width:98 px; height:98px;\">\n",
    "<img src=\"https://raw.githubusercontent.com/Unidata/MetPy/master/src/metpy/plots/_static/unidata_150x150.png\" alt=\"Unidata Logo\" style=\"height: 98px;\">\n",
    "</div>\n",
    "\n",
    "<h1>Introduction to MetPy</h1>\n",
    "<h3>Unidata Python Workshop</h3>\n",
    "\n",
    "<div style=\"clear:both\"></div>\n",
    "</div>\n",
    "\n",
    "<hr style=\"height:2px;\">\n",
    "\n",
    "### Questions\n",
    "1. What is MetPy?\n",
    "1. How is MetPy structured?\n",
    "1. How are units handled in MetPy?\n",
    "\n",
    "### Objectives\n",
    "1. <a href=\"#whatis\">What is MetPy?</a>\n",
    "1. <a href=\"#units\">Units and MetPy</a>\n",
    "1. <a href=\"#constants\">MetPy Constants</a>\n",
    "1. <a href=\"#calculations\">MetPy Calculations</a>"
   ]
  },
  {
   "cell_type": "markdown",
   "metadata": {},
   "source": [
    "<a name=\"whatis\"></a>\n",
    "## What is MetPy?\n",
    "MetPy is a modern meteorological open-source toolkit for Python. It is a maintained project of [Unidata](http://www.unidata.ucar.edu) to serve the academic meteorological community. MetPy consists of three major areas of functionality:\n",
    "\n",
    "![](MetPy_breakdown.png)\n",
    "\n",
    "### Plots\n",
    "As meteorologists, we have many field specific plots that we make. Some of these, such as the Skew-T Log-p require non-standard axes and are difficult to plot in most plotting software. In MetPy we've baked in a lot of this specialized functionality to help you get your plots made and get back to doing science. We will go over making different kinds of plots during the workshop.\n",
    "\n",
    "\n",
    "### Calculations\n",
    "Meteorology also has a common set of calculations that everyone ends up programming themselves. This is error-prone and a huge duplication of work! MetPy contains a set of well tested calculations that is continually growing in an effort to be at feature parity with other legacy packages such as GEMPAK.\n",
    "\n",
    "### File I/O\n",
    "Finally, there are a number of odd file formats in the meteorological community. MetPy has incorporated a set of readers to help you deal with file formats that you may encounter during your research."
   ]
  },
  {
   "cell_type": "markdown",
   "metadata": {},
   "source": [
    "<a name=\"units\"></a>\n",
    "## Units and MetPy\n",
    "In order for us to discuss any of the functionality of MetPy, we first need to understand how units are inherently a part of MetPy and how to use them within this library.\n",
    "\n",
    "Early in our scientific careers we all learn about the importance of paying attention to units in our calculations. Unit conversions can still get the best of us and have caused more than one major technical disaster, including the crash and complete loss of the $327 million [Mars Climate Orbiter](https://en.wikipedia.org/wiki/Mars_Climate_Orbiter).\n",
    "\n",
    "In MetPy, we use the [pint](https://pint.readthedocs.io/en/latest/) library and a custom unit registry to help prevent unit mistakes in calculations. That means that every quantity you pass to MetPy should have units attached, just like if you were doing the calculation on paper! Attaching units is easy:"
   ]
  },
  {
   "cell_type": "code",
   "execution_count": 1,
   "metadata": {},
   "outputs": [],
   "source": [
    "# Import the MetPy unit registry\n",
    "from metpy.units import units"
   ]
  },
  {
   "cell_type": "code",
   "execution_count": 2,
   "metadata": {},
   "outputs": [
    {
     "name": "stdout",
     "output_type": "stream",
     "text": [
      "10.4 inch 20 meter\n"
     ]
    }
   ],
   "source": [
    "length = 10.4 * units.inches\n",
    "width = 20 * units.meters\n",
    "print(length, width)"
   ]
  },
  {
   "cell_type": "markdown",
   "metadata": {},
   "source": [
    "Don't forget that you can use tab completion to see what units are available! Just about every imaginable quantity is there, but if you find one that isn't, we're happy to talk about adding it.\n",
    "\n",
    "While it may seem like a lot of trouble, let's compute the area of a rectangle defined by our length and width variables above. Without units attached, you'd need to remember to perform a unit conversion before multiplying or you would end up with an area in inch-meters and likely forget about it. With units attached, the units are tracked for you."
   ]
  },
  {
   "cell_type": "code",
   "execution_count": 3,
   "metadata": {},
   "outputs": [
    {
     "name": "stdout",
     "output_type": "stream",
     "text": [
      "208.0 inch * meter\n"
     ]
    }
   ],
   "source": [
    "area = length * width\n",
    "print(area)"
   ]
  },
  {
   "cell_type": "markdown",
   "metadata": {},
   "source": [
    "That's great, now we have an area, but it is not in a very useful unit still. Units can be converted using the `.to()` method. While you won't see m$^2$ in the units list, we can parse complex/compound units as strings:"
   ]
  },
  {
   "cell_type": "code",
   "execution_count": 4,
   "metadata": {},
   "outputs": [
    {
     "data": {
      "text/html": [
       "5.2832 meter<sup>2</sup>"
      ],
      "text/latex": [
       "$5.2832\\ \\mathrm{meter}^{2}$"
      ],
      "text/plain": [
       "5.2832 <Unit('meter ** 2')>"
      ]
     },
     "execution_count": 4,
     "metadata": {},
     "output_type": "execute_result"
    }
   ],
   "source": [
    "area.to('m^2')"
   ]
  },
  {
   "cell_type": "markdown",
   "metadata": {},
   "source": [
    "<div class=\"alert alert-success\">\n",
    "    <b>EXERCISE</b>:\n",
    "     <ul>\n",
    "         <li>Create a variable named speed with a value of 25 knots.</li>\n",
    "         <li>Create a variable named time with a value of 1 fortnight.</li>\n",
    "         <li>Calculate how many furlongs you would travel in time at speed.</li>\n",
    "    </ul>\n",
    "</div>"
   ]
  },
  {
   "cell_type": "code",
   "execution_count": 5,
   "metadata": {},
   "outputs": [
    {
     "name": "stdout",
     "output_type": "stream",
     "text": [
      "77332.22424242426 furlong\n"
     ]
    }
   ],
   "source": [
    "speed = 25 * units.knots\n",
    "time = 1 * units.fortnight\n",
    "distance = speed * time\n",
    "print(distance.to('furlongs'))"
   ]
  },
  {
   "cell_type": "markdown",
   "metadata": {},
   "source": [
    "<div class=\"alert alert-info\">\n",
    "    <b>SOLUTION</b>\n",
    "</div>"
   ]
  },
  {
   "cell_type": "code",
   "execution_count": 6,
   "metadata": {},
   "outputs": [],
   "source": [
    "# %load solutions/distance.py"
   ]
  },
  {
   "cell_type": "markdown",
   "metadata": {},
   "source": [
    "### Temperature\n",
    "Temperature units are actually relatively tricky (more like absolutely tricky as you'll see). Temperature is a non-multiplicative unit - they are in a system with a reference point. That means that not only is there a scaling factor, but also an offset. This makes the math and unit book-keeping a little more complex. Imagine adding 10 degrees Celsius to 100 degrees Celsius. Is the answer 110 degrees Celsius or 383.15 degrees Celsius (283.15 K + 373.15 K)? That's why there are delta degrees units in the unit registry for offset units. For more examples and explanation you can watch [MetPy Monday #13](https://www.youtube.com/watch?v=iveJCqxe3Z4).\n",
    "\n",
    "Let's take a look at how this works and fails:"
   ]
  },
  {
   "cell_type": "markdown",
   "metadata": {},
   "source": [
    "We would expect this to fail because we cannot add two offset units (and it does fail as an \"Ambiguous operation with offset unit\").\n",
    "\n",
    "<pre style='color:#000000;background:#ffffff;'><span style='color:#008c00; '>10</span> <span style='color:#44aadd; '>*</span> units<span style='color:#808030; '>.</span>degC <span style='color:#44aadd; '>+</span> <span style='color:#008c00; '>5</span> <span style='color:#44aadd; '>*</span> units<span style='color:#808030; '>.</span>degC\n",
    "</pre>\n",
    "\n",
    "On the other hand, we can subtract two offset quantities and get a delta:"
   ]
  },
  {
   "cell_type": "code",
   "execution_count": 7,
   "metadata": {},
   "outputs": [
    {
     "data": {
      "text/html": [
       "5 delta_degree_Celsius"
      ],
      "text/latex": [
       "$5\\ \\mathrm{delta\\_degree\\_Celsius}$"
      ],
      "text/plain": [
       "5 <Unit('delta_degree_Celsius')>"
      ]
     },
     "execution_count": 7,
     "metadata": {},
     "output_type": "execute_result"
    }
   ],
   "source": [
    "10 * units.degC - 5 * units.degC"
   ]
  },
  {
   "cell_type": "markdown",
   "metadata": {},
   "source": [
    "We can add a delta to an offset unit as well:"
   ]
  },
  {
   "cell_type": "code",
   "execution_count": 8,
   "metadata": {},
   "outputs": [
    {
     "data": {
      "text/html": [
       "27.77777777777778 degree_Celsius"
      ],
      "text/latex": [
       "$27.77777777777778\\ \\mathrm{degree\\_Celsius}$"
      ],
      "text/plain": [
       "27.77777777777778 <Unit('degree_Celsius')>"
      ]
     },
     "execution_count": 8,
     "metadata": {},
     "output_type": "execute_result"
    }
   ],
   "source": [
    "25 * units.degC + 5 * units.delta_degF"
   ]
  },
  {
   "cell_type": "markdown",
   "metadata": {},
   "source": [
    "Absolute temperature scales like Kelvin and Rankine do not have an offset and therefore can be used in addition/subtraction without the need for a delta verion of the unit."
   ]
  },
  {
   "cell_type": "code",
   "execution_count": 9,
   "metadata": {},
   "outputs": [
    {
     "data": {
      "text/html": [
       "283 kelvin"
      ],
      "text/latex": [
       "$283\\ \\mathrm{kelvin}$"
      ],
      "text/plain": [
       "283 <Unit('kelvin')>"
      ]
     },
     "execution_count": 9,
     "metadata": {},
     "output_type": "execute_result"
    }
   ],
   "source": [
    "273 * units.kelvin + 10 * units.kelvin"
   ]
  },
  {
   "cell_type": "code",
   "execution_count": 10,
   "metadata": {},
   "outputs": [
    {
     "data": {
      "text/html": [
       "263 kelvin"
      ],
      "text/latex": [
       "$263\\ \\mathrm{kelvin}$"
      ],
      "text/plain": [
       "263 <Unit('kelvin')>"
      ]
     },
     "execution_count": 10,
     "metadata": {},
     "output_type": "execute_result"
    }
   ],
   "source": [
    "273 * units.kelvin - 10 * units.kelvin"
   ]
  },
  {
   "cell_type": "markdown",
   "metadata": {},
   "source": [
    "### Example\n",
    "Let's say we're given a 12 UTC sounding, but want to know how the profile has changed when we have had several hours of diurnal heating. How do we update the surface temperature?"
   ]
  },
  {
   "cell_type": "code",
   "execution_count": 11,
   "metadata": {},
   "outputs": [
    {
     "data": {
      "text/html": [
       "20 degree_Celsius"
      ],
      "text/latex": [
       "$20\\ \\mathrm{degree\\_Celsius}$"
      ],
      "text/plain": [
       "20 <Unit('degree_Celsius')>"
      ]
     },
     "execution_count": 11,
     "metadata": {},
     "output_type": "execute_result"
    }
   ],
   "source": [
    "# 12 UTC temperature\n",
    "temp_initial = 20 * units.degC\n",
    "temp_initial"
   ]
  },
  {
   "cell_type": "markdown",
   "metadata": {},
   "source": [
    "Maybe the surface temperature increased by 5 degrees Celsius so far today - is this a temperature of 5 degC, or a temperature change of 5 degC? We subconsciously know that its a *delta* of 5 degC, but often write it as just adding two temperatures together, when it really is: `temperature + delta(temperature)`"
   ]
  },
  {
   "cell_type": "code",
   "execution_count": 12,
   "metadata": {},
   "outputs": [
    {
     "data": {
      "text/html": [
       "25 degree_Celsius"
      ],
      "text/latex": [
       "$25\\ \\mathrm{degree\\_Celsius}$"
      ],
      "text/plain": [
       "25 <Unit('degree_Celsius')>"
      ]
     },
     "execution_count": 12,
     "metadata": {},
     "output_type": "execute_result"
    }
   ],
   "source": [
    "# New 18 UTC temperature\n",
    "temp_new = temp_initial + 5 * units.delta_degC\n",
    "temp_new"
   ]
  },
  {
   "cell_type": "markdown",
   "metadata": {},
   "source": [
    "<div class=\"alert alert-success\">\n",
    "    <b>EXERCISE</b>:\n",
    "\n",
    "A cold front is moving through, decreasing the ambient temperature of 25 degC at a rate of 2.3 degF every 10 minutes. What is the temperature after 1.5 hours?\n",
    "</div>"
   ]
  },
  {
   "cell_type": "code",
   "execution_count": 13,
   "metadata": {},
   "outputs": [
    {
     "name": "stdout",
     "output_type": "stream",
     "text": [
      "13.5 degree_Celsius\n"
     ]
    }
   ],
   "source": [
    "temperature_change_rate = -2.3 * units.delta_degF / (10 * units.minutes)\n",
    "temperature = 25 * units.degC\n",
    "dt = 1.5 * units.hours\n",
    "print(temperature + temperature_change_rate * dt)"
   ]
  },
  {
   "cell_type": "markdown",
   "metadata": {},
   "source": [
    "<div class=\"alert alert-info\">\n",
    "    <b>SOLUTION</b>\n",
    "</div>"
   ]
  },
  {
   "cell_type": "code",
   "execution_count": 14,
   "metadata": {},
   "outputs": [],
   "source": [
    "# %load solutions/temperature_change.py"
   ]
  },
  {
   "cell_type": "markdown",
   "metadata": {},
   "source": [
    "<a href=\"#top\">Top</a>\n",
    "<hr style=\"height:2px;\">"
   ]
  },
  {
   "cell_type": "markdown",
   "metadata": {},
   "source": [
    "<a name=\"constants\"></a>\n",
    "## MetPy Constants\n",
    "Another common place that problems creep into scientific code is the value of constants. Can you reproduce someone else's computations from their paper? Probably not unless you know the value of all of their constants. Was the radius of the earth 6000 km, 6300km, 6371 km, or was it actually latitude dependent?\n",
    "\n",
    "MetPy has a set of constants that can be easily accessed and make your calculations reproducible. You can view a [full table](https://unidata.github.io/MetPy/latest/api/generated/metpy.constants.html#module-metpy.constants) in the docs, look at the module docstring with `metpy.constants?` or checkout what's available with tab completion."
   ]
  },
  {
   "cell_type": "code",
   "execution_count": 15,
   "metadata": {},
   "outputs": [],
   "source": [
    "import metpy.constants as mpconst"
   ]
  },
  {
   "cell_type": "code",
   "execution_count": 16,
   "metadata": {},
   "outputs": [
    {
     "data": {
      "text/html": [
       "6371008.7714 meter"
      ],
      "text/latex": [
       "$6371008.7714\\ \\mathrm{meter}$"
      ],
      "text/plain": [
       "6371008.7714 <Unit('meter')>"
      ]
     },
     "execution_count": 16,
     "metadata": {},
     "output_type": "execute_result"
    }
   ],
   "source": [
    "mpconst.earth_avg_radius"
   ]
  },
  {
   "cell_type": "code",
   "execution_count": 17,
   "metadata": {},
   "outputs": [
    {
     "data": {
      "text/html": [
       "0.02896546 kilogram/mole"
      ],
      "text/latex": [
       "$0.02896546\\ \\frac{\\mathrm{kilogram}}{\\mathrm{mole}}$"
      ],
      "text/plain": [
       "0.02896546 <Unit('kilogram / mole')>"
      ]
     },
     "execution_count": 17,
     "metadata": {},
     "output_type": "execute_result"
    }
   ],
   "source": [
    "mpconst.dry_air_molecular_weight"
   ]
  },
  {
   "cell_type": "markdown",
   "metadata": {},
   "source": [
    "You may also notice in the table that most constants have a short name as well that can be used:"
   ]
  },
  {
   "cell_type": "code",
   "execution_count": 18,
   "metadata": {},
   "outputs": [
    {
     "data": {
      "text/html": [
       "6371008.7714 meter"
      ],
      "text/latex": [
       "$6371008.7714\\ \\mathrm{meter}$"
      ],
      "text/plain": [
       "6371008.7714 <Unit('meter')>"
      ]
     },
     "execution_count": 18,
     "metadata": {},
     "output_type": "execute_result"
    }
   ],
   "source": [
    "mpconst.Re"
   ]
  },
  {
   "cell_type": "code",
   "execution_count": 19,
   "metadata": {},
   "outputs": [
    {
     "data": {
      "text/html": [
       "0.02896546 kilogram/mole"
      ],
      "text/latex": [
       "$0.02896546\\ \\frac{\\mathrm{kilogram}}{\\mathrm{mole}}$"
      ],
      "text/plain": [
       "0.02896546 <Unit('kilogram / mole')>"
      ]
     },
     "execution_count": 19,
     "metadata": {},
     "output_type": "execute_result"
    }
   ],
   "source": [
    "mpconst.Md"
   ]
  },
  {
   "cell_type": "markdown",
   "metadata": {},
   "source": [
    "<a href=\"#top\">Top</a>\n",
    "<hr style=\"height:2px;\">"
   ]
  },
  {
   "cell_type": "markdown",
   "metadata": {},
   "source": [
    "<a name=\"calculations\"></a>\n",
    "## MetPy Calculations\n",
    "MetPy also encompasses a set of calculations that are common in meteorology (with the goal of have all of the functionality of legacy software like GEMPAK and more). The [calculations documentation](https://unidata.github.io/MetPy/latest/api/generated/metpy.calc.html) has a complete list of the calculations in MetPy.\n",
    "\n",
    "We'll scratch the surface and show off a few simple calculations here, but will be using many during the workshop."
   ]
  },
  {
   "cell_type": "code",
   "execution_count": 23,
   "metadata": {},
   "outputs": [],
   "source": [
    "import metpy.calc as mpcalc\n",
    "import numpy as np"
   ]
  },
  {
   "cell_type": "code",
   "execution_count": 24,
   "metadata": {},
   "outputs": [
    {
     "name": "stdout",
     "output_type": "stream",
     "text": [
      "[14.0 2.0 12.0 5.0 3.0 5.0 14.0 8.0 15.0 10.0] meter / second\n",
      "[13.0 18.0 19.0 5.0 0.0 6.0 8.0 8.0 8.0 14.0] meter / second\n"
     ]
    }
   ],
   "source": [
    "# Make some fake data for us to work with\n",
    "np.random.seed(19990503)  # So we all have the same data\n",
    "u = np.random.randint(0, 20, 10) * units('m/s')\n",
    "v = np.random.randint(0, 20, 10) * units('m/s')\n",
    "\n",
    "print(u)\n",
    "print(v)"
   ]
  },
  {
   "cell_type": "markdown",
   "metadata": {},
   "source": [
    "Let's use the `wind_direction` function from MetPy to calculate wind direction from these values. Remember you can look at the docstring or the website for help."
   ]
  },
  {
   "cell_type": "code",
   "execution_count": 25,
   "metadata": {},
   "outputs": [
    {
     "name": "stdout",
     "output_type": "stream",
     "text": [
      "[227.12109639666144 186.34019174590992 212.27564431457762 225.0 270.0 219.8055710922652 240.25511870305778 225.0 241.92751306414706 215.53767779197437] degree\n"
     ]
    }
   ],
   "source": [
    "direction = mpcalc.wind_direction(u, v)\n",
    "print(direction)"
   ]
  },
  {
   "cell_type": "markdown",
   "metadata": {},
   "source": [
    "<div class=\"alert alert-success\">\n",
    "    <b>EXERCISE</b>:\n",
    "     <ul>\n",
    "         <li>Calculate the wind speed using the wind_speed function.</li>\n",
    "         <li>Print the wind speed in m/s and mph.</li>\n",
    "    </ul>\n",
    "</div>"
   ]
  },
  {
   "cell_type": "code",
   "execution_count": 28,
   "metadata": {},
   "outputs": [
    {
     "name": "stdout",
     "output_type": "stream",
     "text": [
      "[19.1049731745428 18.110770276274835 22.47220505424423 7.0710678118654755 3.0 7.810249675906654 16.1245154965971 11.313708498984761 17.0 17.204650534085253] meter / second\n",
      "[42.73660785286059 40.512639308059306 50.26889104832728 15.81752821193959 6.710808876163206 17.471030950041726 36.06951390613166 25.308045139103346 38.027916964924835 38.48570717180846] mile_per_hour\n"
     ]
    }
   ],
   "source": [
    "speed = mpcalc.wind_speed(u, v)\n",
    "print(speed.to('m/s'))\n",
    "print(speed.to('mph'))"
   ]
  },
  {
   "cell_type": "markdown",
   "metadata": {},
   "source": [
    "<div class=\"alert alert-info\">\n",
    "    <b>SOLUTION</b>\n",
    "</div>"
   ]
  },
  {
   "cell_type": "code",
   "execution_count": 29,
   "metadata": {},
   "outputs": [],
   "source": [
    "# %load solutions/wind_speed.py"
   ]
  },
  {
   "cell_type": "markdown",
   "metadata": {},
   "source": [
    "As one final demonstration, we will calculation the dewpoint given the temperature and relative humidity:"
   ]
  },
  {
   "cell_type": "code",
   "execution_count": 30,
   "metadata": {},
   "outputs": [
    {
     "data": {
      "text/html": [
       "20.264799097790046 degree_Celsius"
      ],
      "text/latex": [
       "$20.264799097790046\\ \\mathrm{degree\\_Celsius}$"
      ],
      "text/plain": [
       "20.264799097790046 <Unit('degree_Celsius')>"
      ]
     },
     "execution_count": 30,
     "metadata": {},
     "output_type": "execute_result"
    }
   ],
   "source": [
    "mpcalc.dewpoint_from_relative_humidity(25 * units.degC, 75 * units.percent)"
   ]
  },
  {
   "cell_type": "markdown",
   "metadata": {},
   "source": [
    "<a href=\"#top\">Top</a>\n",
    "<hr style=\"height:2px;\">"
   ]
  }
 ],
 "metadata": {
  "kernelspec": {
   "display_name": "Python 3 (ipykernel)",
   "language": "python",
   "name": "python3"
  },
  "language_info": {
   "codemirror_mode": {
    "name": "ipython",
    "version": 3
   },
   "file_extension": ".py",
   "mimetype": "text/x-python",
   "name": "python",
   "nbconvert_exporter": "python",
   "pygments_lexer": "ipython3",
   "version": "3.8.12"
  }
 },
 "nbformat": 4,
 "nbformat_minor": 4
}
